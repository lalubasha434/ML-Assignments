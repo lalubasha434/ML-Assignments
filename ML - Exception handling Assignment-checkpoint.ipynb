{
 "cells": [
  {
   "cell_type": "markdown",
   "metadata": {},
   "source": [
    "Q.1 Write a function to compute 5/0 and use try/except to catch the exceptions."
   ]
  },
  {
   "cell_type": "code",
   "execution_count": 1,
   "metadata": {},
   "outputs": [
    {
     "name": "stdout",
     "output_type": "stream",
     "text": [
      "Taken care of dividing a number by 'ZERO' using Try and Except\n"
     ]
    }
   ],
   "source": [
    "def Division_with_zero():\n",
    "    return 5/0\n",
    "\n",
    "try:\n",
    "    Division_with_zero()\n",
    "    \n",
    "except ZeroDivisionError as zero:\n",
    "    print(\"Taken care of dividing a number by 'ZERO' using Try and Except\")"
   ]
  },
  {
   "cell_type": "markdown",
   "metadata": {},
   "source": [
    "Q.2 Implement a Python program to generate all sentences where subject is in [\"Americans\",\"Indians\"] and verb is in [\"Play\", \"watch\"] and the object is in [\"Baseball\",\"cricket\"].\n",
    "\n",
    "Hint: Subject,Verb and Object should be declared in the program as shown below.\n",
    "subjects=[\"Americans \",\"Indians\"]\n",
    "verbs=[\"play\",\"watch\"]\n",
    "objects=[\"Baseball\",\"Cricket\"]\n",
    "\n",
    "Output should come as below:\n",
    "    \n",
    "    Americans play Baseball.\n",
    "    \n",
    "    Americans play Cricket.\n",
    "    \n",
    "    Americans watch Baseball.\n",
    "    \n",
    "    Americans watch Cricket.\n",
    "    \n",
    "    Indians play Baseball.\n",
    "    \n",
    "    Indians play Cricket.\n",
    "    \n",
    "    Indians watch Baseball.\n",
    "    \n",
    "    Indians watch Cricket."
   ]
  },
  {
   "cell_type": "code",
   "execution_count": 2,
   "metadata": {},
   "outputs": [
    {
     "name": "stdout",
     "output_type": "stream",
     "text": [
      "\n",
      " \"Method-1 Output:\" \n",
      "Americans Play Baseball.\n",
      "Americans Play Cricket.\n",
      "Americans watch Baseball.\n",
      "Americans watch Cricket.\n",
      "Indians Play Baseball.\n",
      "Indians Play Cricket.\n",
      "Indians watch Baseball.\n",
      "Indians watch Cricket.\n",
      "\n",
      " \"Method-2 Output:\" \n",
      "Americans Play Baseball.\n",
      "Americans Play Cricket.\n",
      "Americans watch Baseball.\n",
      "Americans watch Cricket.\n",
      "Indians Play Baseball.\n",
      "Indians Play Cricket.\n",
      "Indians watch Baseball.\n",
      "Indians watch Cricket.\n"
     ]
    }
   ],
   "source": [
    "subjects=[\"Americans\", \"Indians\"]\n",
    "verbs=[\"Play\", \"watch\"]\n",
    "objects=[\"Baseball\",\"Cricket\"]\n",
    "\n",
    "''' Method-1: Using nested for loop on each list for sentence formation '''\n",
    "\n",
    "print('\\n \"Method-1 Output:\" ')\n",
    "\n",
    "for sub in subjects:\n",
    "    for vrb in verbs:\n",
    "        for obj in objects:\n",
    "            sentences_list = [(sub + \" \" + vrb + \" \" + obj + \".\")]\n",
    "            print(*sentences_list)\n",
    "\n",
    "''' Method-2: Using list comprehension instead of looping on each list for sentence formation'''            \n",
    "print('\\n \"Method-2 Output:\" ')\n",
    "\n",
    "sentences_list = [(sub+\" \"+ vrb + \" \" + obj + \".\") for sub in subjects for vrb in verbs for obj in objects]\n",
    "for sentence in sentences_list:\n",
    "    print(sentence)"
   ]
  },
  {
   "cell_type": "code",
   "execution_count": null,
   "metadata": {},
   "outputs": [],
   "source": []
  }
 ],
 "metadata": {
  "kernelspec": {
   "display_name": "Python 3",
   "language": "python",
   "name": "python3"
  },
  "language_info": {
   "codemirror_mode": {
    "name": "ipython",
    "version": 3
   },
   "file_extension": ".py",
   "mimetype": "text/x-python",
   "name": "python",
   "nbconvert_exporter": "python",
   "pygments_lexer": "ipython3",
   "version": "3.7.4"
  }
 },
 "nbformat": 4,
 "nbformat_minor": 2
}
