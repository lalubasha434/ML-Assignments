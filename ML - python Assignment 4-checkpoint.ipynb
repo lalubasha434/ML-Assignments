{
 "cells": [
  {
   "cell_type": "raw",
   "metadata": {},
   "source": [
    "Q.1.1 Write a Python Program(with class concepts) to find the area of the triangle using the below\n",
    "formula.\n",
    "\n",
    "area = (s*(s-a)*(s-b)*(s-c)) ** 0.5\n",
    "\n",
    "Function to take the length of the sides of triangle from user should be defined in the parent\n",
    "class and function to calculate the area should be defined in subclass."
   ]
  },
  {
   "cell_type": "code",
   "execution_count": 1,
   "metadata": {},
   "outputs": [
    {
     "name": "stdout",
     "output_type": "stream",
     "text": [
      "Enter the value of first side of the triangle a = 20\n",
      "Enter the value of second side of the triangle b = 20\n",
      "Enter the value of third side of the triangle c = 10\n",
      "area : 96.82458365518542\n"
     ]
    }
   ],
   "source": [
    "class Triangle:\n",
    " \n",
    "    def __init__(self,a,b,c):\n",
    "        self.a = float(a)\n",
    "        self.b = float(b)\n",
    "        self.c = float(c)\n",
    " \n",
    "    def area(self):\n",
    "        s=(self.a + self.b + self.c)/2\n",
    "        return((s*(s-self.a)*(s-self.b)*(s-self.c))**0.5)\n",
    " \n",
    "a=input(\"Enter the value of first side of the triangle a = \")\n",
    "b=input(\"Enter the value of second side of the triangle b = \")\n",
    "c=input(\"Enter the value of third side of the triangle c = \")\n",
    "t = Triangle(a, b, c)\n",
    "print(\"area : {}\".format(t.area()))"
   ]
  },
  {
   "cell_type": "markdown",
   "metadata": {},
   "source": [
    "Q.1.2 Write a function filter_long_words() that takes a list of words and an integer n and returns the list\n",
    "of words that are longer than n."
   ]
  },
  {
   "cell_type": "code",
   "execution_count": 2,
   "metadata": {},
   "outputs": [
    {
     "name": "stdout",
     "output_type": "stream",
     "text": [
      "['Python', 'classes', 'beautiful.', 'Trying', 'solve', 'exercises']\n"
     ]
    }
   ],
   "source": [
    "def filter_long_words(list_words, n):\n",
    "    words = list_words.split(\" \")\n",
    "    list_word_len_grt_n = []\n",
    "    \n",
    "    for x in words:\n",
    "        if len(x) > n:\n",
    "            list_word_len_grt_n.append(x)\n",
    "    return list_word_len_grt_n\n",
    "print(filter_long_words(\"The Python classes are beautiful. Trying to solve exercises as much as I can\", 4))"
   ]
  },
  {
   "cell_type": "markdown",
   "metadata": {},
   "source": [
    "Q.2.1 Write a Python program using function concept that maps list of words into a list of integers representing the lengths of the corresponding words.\n",
    "    \n",
    "Hint: If a list [ ab,cde,erty] is passed on to the python function output should come as [2,3,4]\n",
    "\n",
    "Here 2,3 and 4 are the lengths of the words in the list."
   ]
  },
  {
   "cell_type": "code",
   "execution_count": 3,
   "metadata": {},
   "outputs": [
    {
     "name": "stdout",
     "output_type": "stream",
     "text": [
      "Length of the words in the list are:  [2, 3, 4]\n"
     ]
    }
   ],
   "source": [
    "def words_length(words_list):\n",
    " return list(map(lambda x: len(x), words_list))\n",
    "\n",
    "words_list = [\"ab\", \"cde\", \"erty\"]\n",
    "print(\"Length of the words in the list are: \", words_length(words_list))"
   ]
  },
  {
   "cell_type": "markdown",
   "metadata": {},
   "source": [
    "Q.2.2 Write a Python function which takes a character (i.e. a string of length 1) and returns True if it is\n",
    "a vowel, False otherwise."
   ]
  },
  {
   "cell_type": "code",
   "execution_count": 4,
   "metadata": {},
   "outputs": [
    {
     "name": "stdout",
     "output_type": "stream",
     "text": [
      "True\n",
      "True\n",
      "False\n",
      "False\n"
     ]
    }
   ],
   "source": [
    "def is_vowel(char):\n",
    "    all_vowels = 'aeiouAEIOU'\n",
    "    return char in all_vowels\n",
    "\n",
    "print(is_vowel('a'))\n",
    "print(is_vowel('A'))\n",
    "print(is_vowel('t'))\n",
    "print(is_vowel('T'))"
   ]
  },
  {
   "cell_type": "code",
   "execution_count": null,
   "metadata": {},
   "outputs": [],
   "source": []
  }
 ],
 "metadata": {
  "kernelspec": {
   "display_name": "Python 3",
   "language": "python",
   "name": "python3"
  },
  "language_info": {
   "codemirror_mode": {
    "name": "ipython",
    "version": 3
   },
   "file_extension": ".py",
   "mimetype": "text/x-python",
   "name": "python",
   "nbconvert_exporter": "python",
   "pygments_lexer": "ipython3",
   "version": "3.7.4"
  }
 },
 "nbformat": 4,
 "nbformat_minor": 2
}
